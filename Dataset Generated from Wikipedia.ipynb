{
    "nbformat_minor": 1, 
    "cells": [
        {
            "source": "## Scrape Data from Widipedia", 
            "cell_type": "markdown", 
            "metadata": {}
        }, 
        {
            "source": "This notebook is created to scrape the Wikipedia page in order to obtain the data that is in the table of postal codes and to transform the data into a pandas dataframe.", 
            "cell_type": "markdown", 
            "metadata": {}
        }, 
        {
            "source": "# Import libraries\nimport pandas as pd\nimport requests\nfrom bs4 import BeautifulSoup", 
            "cell_type": "code", 
            "metadata": {}, 
            "outputs": [], 
            "execution_count": 2
        }, 
        {
            "source": "We use the 'request' and 'BeautifulSoup' libraries to get the 'lxml' file and then find the all table tags for subsequently generating dataframe.", 
            "cell_type": "markdown", 
            "metadata": {}
        }, 
        {
            "source": "website_url = 'https://en.wikipedia.org/wiki/List_of_postal_codes_of_Canada:_M'\nresults = requests.get(website_url).text\n\nsoup = BeautifulSoup(results, 'lxml')\nmy_table = soup.find('table', {'class': \"wikitable sortable\"})\ntable = my_table.findAll('td')", 
            "cell_type": "code", 
            "metadata": {}, 
            "outputs": [], 
            "execution_count": 27
        }, 
        {
            "source": "Build a loop to extract all data and store as dictionary.", 
            "cell_type": "markdown", 
            "metadata": {}
        }, 
        {
            "source": "col_list = ['PostCode', 'Borough', 'Neighbourhood']\ndata_dict = {}\nfor ind, key in enumerate(col_list):\n    i = ind\n    value = []\n    while i <= len(table)-1:\n        text = table[i].text\n        value.append(text)\n        i += 3\n    data_dict[key] = value\n\nprint('Store data in dictionary!')", 
            "cell_type": "code", 
            "metadata": {}, 
            "outputs": [
                {
                    "output_type": "stream", 
                    "name": "stdout", 
                    "text": "0 PostCode\n1 Borough\n2 Neighbourhood\n"
                }
            ], 
            "execution_count": 51
        }, 
        {
            "source": "Build dataframe and clean the dataset.", 
            "cell_type": "markdown", 
            "metadata": {}
        }, 
        {
            "source": "# Build and clean dataframe\ndata_df = pd.DataFrame(data_dict)\ndata_df = data_df[['PostCode', 'Borough', 'Neighbourhood']]\ndata_df['Neighbourhood'] = data_df['Neighbourhood'].apply(lambda x: x.split(\"\\n\")[0])\n\n# Drop the cells with Not assigned Borough\ntable_df = table_df[table_df.Borough != 'Not assigned']\n\n# A cell has a borough but a Not assigned neighborhood, then the neighborhood will be the same as the borough. \ntable_df['Neighbourhood'][table_df.Neighbourhood == 'Not assigned'] = table_df[table_df.Neighbourhood == 'Not assigned']['Borough']\n\n# Two rows are combined into one row with same PostCode and Borough.\ntable_df = table_df.groupby(['PostCode', 'Borough']).agg({'Neighbourhood': lambda x: ' , '.join(x)}).reset_index()", 
            "cell_type": "code", 
            "metadata": {}, 
            "outputs": [], 
            "execution_count": 92
        }, 
        {
            "source": "# Have a look the data\ntable_df.head()", 
            "cell_type": "code", 
            "metadata": {}, 
            "outputs": [
                {
                    "output_type": "execute_result", 
                    "data": {
                        "text/plain": "  PostCode      Borough                             Neighbourhood\n0      M1B  Scarborough                           Rouge , Malvern\n1      M1C  Scarborough  Highland Creek , Rouge Hill , Port Union\n2      M1E  Scarborough       Guildwood , Morningside , West Hill\n3      M1G  Scarborough                                    Woburn\n4      M1H  Scarborough                                 Cedarbrae", 
                        "text/html": "<div>\n<style scoped>\n    .dataframe tbody tr th:only-of-type {\n        vertical-align: middle;\n    }\n\n    .dataframe tbody tr th {\n        vertical-align: top;\n    }\n\n    .dataframe thead th {\n        text-align: right;\n    }\n</style>\n<table border=\"1\" class=\"dataframe\">\n  <thead>\n    <tr style=\"text-align: right;\">\n      <th></th>\n      <th>PostCode</th>\n      <th>Borough</th>\n      <th>Neighbourhood</th>\n    </tr>\n  </thead>\n  <tbody>\n    <tr>\n      <th>0</th>\n      <td>M1B</td>\n      <td>Scarborough</td>\n      <td>Rouge , Malvern</td>\n    </tr>\n    <tr>\n      <th>1</th>\n      <td>M1C</td>\n      <td>Scarborough</td>\n      <td>Highland Creek , Rouge Hill , Port Union</td>\n    </tr>\n    <tr>\n      <th>2</th>\n      <td>M1E</td>\n      <td>Scarborough</td>\n      <td>Guildwood , Morningside , West Hill</td>\n    </tr>\n    <tr>\n      <th>3</th>\n      <td>M1G</td>\n      <td>Scarborough</td>\n      <td>Woburn</td>\n    </tr>\n    <tr>\n      <th>4</th>\n      <td>M1H</td>\n      <td>Scarborough</td>\n      <td>Cedarbrae</td>\n    </tr>\n  </tbody>\n</table>\n</div>"
                    }, 
                    "execution_count": 97, 
                    "metadata": {}
                }
            ], 
            "execution_count": 97
        }, 
        {
            "source": "#Print the row number of the cleaned data\nprint('Row number of cleaned data:', table_df.shape[0])", 
            "cell_type": "code", 
            "metadata": {}, 
            "outputs": [
                {
                    "output_type": "stream", 
                    "name": "stdout", 
                    "text": "Row number of cleaned table: 103\n"
                }
            ], 
            "execution_count": 100
        }, 
        {
            "source": "", 
            "cell_type": "code", 
            "metadata": {}, 
            "outputs": [], 
            "execution_count": null
        }
    ], 
    "metadata": {
        "kernelspec": {
            "display_name": "Python 3.5", 
            "name": "python3", 
            "language": "python"
        }, 
        "language_info": {
            "mimetype": "text/x-python", 
            "nbconvert_exporter": "python", 
            "version": "3.5.5", 
            "name": "python", 
            "pygments_lexer": "ipython3", 
            "file_extension": ".py", 
            "codemirror_mode": {
                "version": 3, 
                "name": "ipython"
            }
        }
    }, 
    "nbformat": 4
}